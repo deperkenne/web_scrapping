{
 "cells": [
  {
   "cell_type": "code",
   "execution_count": 0,
   "metadata": {
    "application/vnd.databricks.v1+cell": {
     "cellMetadata": {
      "byteLimit": 2048000,
      "rowLimit": 10000
     },
     "inputWidgets": {},
     "nuid": "872f8537-b796-4353-9bbb-144dc681d3c5",
     "showTitle": false,
     "tableResultSettingsMap": {},
     "title": ""
    }
   },
   "outputs": [],
   "source": [
    "\n",
    "from pyspark.sql import SparkSession\n",
    "from pyspark.sql.functions import col, expr, regexp_replace, lit, monotonically_increasing_id\n",
    "from pyspark.sql.types import StructType, StructField, StringType, IntegerType, DoubleType, TimestampType\n",
    "\n",
    "custom_schema = (StructType([\n",
    "    StructField(\"title\", StringType(), False),\n",
    "    StructField(\"subtitle\", StringType(), True),\n",
    "    StructField(\"description\", StringType(), True),\n",
    "    StructField(\"discount\", DoubleType(), True),\n",
    "    StructField(\"old_price\", DoubleType(), True),\n",
    "    StructField(\"new_price\", DoubleType(), False),\n",
    "    StructField(\"date\", TimestampType(), True),  # Espace supprimé avant \"date\"\n",
    "    StructField(\"images\", StringType(), True),\n",
    "    StructField(\"category\", StringType(), True)\n",
    "])\n",
    ")"
   ]
  },
  {
   "cell_type": "code",
   "execution_count": 0,
   "metadata": {
    "application/vnd.databricks.v1+cell": {
     "cellMetadata": {
      "byteLimit": 2048000,
      "rowLimit": 10000
     },
     "inputWidgets": {},
     "nuid": "df5abca4-b3de-438f-b84b-574303cb2978",
     "showTitle": false,
     "tableResultSettingsMap": {},
     "title": ""
    }
   },
   "outputs": [],
   "source": [
    "\n",
    "# Function to format the lines in csv file\n",
    "def line_formating():\n",
    "    col_to_modify = [\"description\", \"images\"]\n",
    "    df = spark.read.format(\"csv\").schema(custom_schema).option(\"header\", \"true\").option(\"inferSchema\", \"true\").option(\"delimiter\", \";\").option(\"encoding\", \"UTF-8\").load(\"/Volumes/workspace/default/yellow_taxi/*.csv\")\n",
    "    for c in df.columns:\n",
    "        if c in col_to_modify:\n",
    "            if c == \"images\":\n",
    "                df = df.withColumn(c, expr(f\"replace({c}, ';', ',')\"))\n",
    "            df = df.withColumn(c, expr(f\"replace({c}, '\\\"\\\"', '\\\"')\"))\n",
    "            df = df.withColumn(c, regexp_replace(c, '^\"|\"$', ''))\n",
    "    return df"
   ]
  },
  {
   "cell_type": "code",
   "execution_count": 0,
   "metadata": {
    "application/vnd.databricks.v1+cell": {
     "cellMetadata": {
      "byteLimit": 2048000,
      "rowLimit": 10000
     },
     "inputWidgets": {},
     "nuid": "e77bf567-74cd-40f5-b55b-f14be189457d",
     "showTitle": false,
     "tableResultSettingsMap": {},
     "title": ""
    }
   },
   "outputs": [],
   "source": [
    "dbutils.fs.rm(\"/Volumes/workspace/default/lidl_products/lidl_product.parquet\", True)"
   ]
  },
  {
   "cell_type": "code",
   "execution_count": 0,
   "metadata": {
    "application/vnd.databricks.v1+cell": {
     "cellMetadata": {
      "byteLimit": 2048000,
      "rowLimit": 10000
     },
     "inputWidgets": {},
     "nuid": "83260d4c-76bb-4641-8da6-38e4c473b08c",
     "showTitle": false,
     "tableResultSettingsMap": {},
     "title": ""
    }
   },
   "outputs": [],
   "source": [
    "# save df to parquet file\n",
    "line_formating().write.format(\"parquet\").mode(\"overwrite\").save(\"/Volumes/workspace/default/lidl_products/lidl_product.parquet\")\n"
   ]
  }
 ],
 "metadata": {
  "application/vnd.databricks.v1+notebook": {
   "computePreferences": null,
   "dashboards": [],
   "environmentMetadata": {
    "base_environment": "",
    "environment_version": "2"
   },
   "inputWidgetPreferences": null,
   "language": "python",
   "notebookMetadata": {
    "pythonIndentUnit": 4
   },
   "notebookName": "clear_csv_File_data",
   "widgets": {}
  },
  "language_info": {
   "name": "python"
  }
 },
 "nbformat": 4,
 "nbformat_minor": 0
}
