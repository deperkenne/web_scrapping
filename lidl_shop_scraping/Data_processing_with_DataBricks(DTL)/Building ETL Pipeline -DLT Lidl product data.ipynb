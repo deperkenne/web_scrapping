{
 "cells": [
  {
   "cell_type": "markdown",
   "metadata": {
    "application/vnd.databricks.v1+cell": {
     "cellMetadata": {},
     "inputWidgets": {},
     "nuid": "c70c81f3-f1d9-443f-bfdf-5252c1e021b2",
     "showTitle": false,
     "tableResultSettingsMap": {},
     "title": ""
    }
   },
   "source": [
    "###(A) Create Live Bronze Table"
   ]
  },
  {
   "cell_type": "code",
   "execution_count": 0,
   "metadata": {
    "application/vnd.databricks.v1+cell": {
     "cellMetadata": {},
     "inputWidgets": {},
     "nuid": "fea148a5-035a-4ada-b8c3-3af603bcf811",
     "showTitle": false,
     "tableResultSettingsMap": {},
     "title": ""
    }
   },
   "outputs": [],
   "source": [
    "import dlt\n",
    "from pyspark.sql.functions import *\n",
    "\n",
    "# Couche Bronze avec contraintes\n",
    "@dlt.table(\n",
    "  name=\"bronze_lidl_products\",\n",
    "  comment=\"Raw  lidl product data \"\n",
    ")\n",
    "def bronze_rides():\n",
    "  df_bronze= spark.read.format(\"parquet\").load(\"/Volumes/workspace/default/lidl_products/lidl_product.parquet\")\n",
    "  df_bronze = (\n",
    "                df_bronze\n",
    "                .dropDuplicates()\n",
    "                .withColumn(\"productId\", monotonically_increasing_id()) # add ProductId monotonically increasing\n",
    "                .withColumn(\"last_updated\", current_timestamp())\n",
    "                .withColumn(\"input_file\", INPUT_FILE_NAME()) \n",
    "  )\n",
    "\n",
    "  return df_bronze"
   ]
  },
  {
   "cell_type": "markdown",
   "metadata": {
    "application/vnd.databricks.v1+cell": {
     "cellMetadata": {},
     "inputWidgets": {},
     "nuid": "835fe82c-f908-41aa-876c-47b359095978",
     "showTitle": false,
     "tableResultSettingsMap": {},
     "title": ""
    }
   },
   "source": [
    "###(B) Create Live Silver Table"
   ]
  },
  {
   "cell_type": "code",
   "execution_count": 0,
   "metadata": {
    "application/vnd.databricks.v1+cell": {
     "cellMetadata": {},
     "inputWidgets": {},
     "nuid": "1bf07a32-dca8-42aa-b40c-447b5b4fcb8e",
     "showTitle": false,
     "tableResultSettingsMap": {},
     "title": ""
    }
   },
   "outputs": [],
   "source": [
    "\n",
    "@dlt.table(\n",
    "  name=\"silver_ldl_products\",\n",
    "  comment=\"validated lidl product data\"\n",
    ")\n",
    "@dlt.expect_all_or_drop({\n",
    "  \"new_price\": \"old_price IS NOT NULL AND old_price > 0\",\n",
    "  \"title\": \"title IS NOT NULL\"\n",
    "  \"category\": \"category IS NOT NULL\"\n",
    "  \"price_consistency\": \"old_price >= new_price\"\n",
    "  \"productId\":\"productId IS NOT NULL\"\n",
    "\n",
    "\n",
    "})\n",
    "def silver_products():\n",
    "  df = dlt.read(\"bronze_rides\")\n",
    "  \n",
    " # Transformation standard\n",
    "  transformed = (\n",
    "    df\n",
    "      .filter(col(\"title\")!=\"title\") \n",
    "      .dropDuplicates([productId])\n",
    "      .withColumnRenamed(\"old_price\", \"new_price\")\n",
    "      .withColumnRenamed(\"new_price\", \"old_price\")\n",
    "      .withColumn(\"discount\", round(col(\"discount\"), 2))\n",
    "     \n",
    "  )\n",
    "  \n",
    "  return   transformed\n",
    "\n",
    "\n",
    "\n",
    "  \n"
   ]
  },
  {
   "cell_type": "code",
   "execution_count": 0,
   "metadata": {
    "application/vnd.databricks.v1+cell": {
     "cellMetadata": {},
     "inputWidgets": {},
     "nuid": "b0874d53-acab-4f92-bfc3-b854daacc6f3",
     "showTitle": false,
     "tableResultSettingsMap": {},
     "title": ""
    }
   },
   "outputs": [],
   "source": []
  }
 ],
 "metadata": {
  "application/vnd.databricks.v1+notebook": {
   "computePreferences": null,
   "dashboards": [],
   "environmentMetadata": {
    "base_environment": "",
    "environment_version": "2"
   },
   "inputWidgetPreferences": null,
   "language": "python",
   "notebookMetadata": {
    "mostRecentlyExecutedCommandWithImplicitDF": {
     "commandId": 7073201410610736,
     "dataframes": [
      "_sqldf"
     ]
    },
    "pythonIndentUnit": 4
   },
   "notebookName": "Building ETL Pipeline -DLT Lidl product data",
   "widgets": {}
  },
  "language_info": {
   "name": "python"
  }
 },
 "nbformat": 4,
 "nbformat_minor": 0
}
